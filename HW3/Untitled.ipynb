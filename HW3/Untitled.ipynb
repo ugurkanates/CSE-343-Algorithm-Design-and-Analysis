{
 "cells": [
  {
   "cell_type": "code",
   "execution_count": 7,
   "metadata": {},
   "outputs": [
    {
     "name": "stdout",
     "output_type": "stream",
     "text": [
      "Maximum contiguous sum is  16\n"
     ]
    }
   ],
   "source": [
    "#part3 \n",
    "def checkWhetever(array, index): \n",
    "    for i in range(index): \n",
    "        if array[i] is i: \n",
    "            return i \n",
    "    # if not found return -1\n",
    "    return -1\n",
    "  \n",
    "array = [1,2,3,4,6,5] \n",
    "index = len(array) \n",
    "print(\"finding out = \" + str(checkWhetever(array,index))) \n",
    "  \n",
    "#o(n) time  Time Complexity."
   ]
  },
  {
   "cell_type": "code",
   "execution_count": 10,
   "metadata": {},
   "outputs": [
    {
     "name": "stdout",
     "output_type": "stream",
     "text": [
      "Maximum contiguous sum is  21\n"
     ]
    }
   ],
   "source": [
    "#part4\n",
    "# A Divide and Conquer based program \n",
    "#  \n",
    "\n",
    "def maxCrossingSum(arrtwo, l, m, h) : \n",
    "\n",
    "    sm = 0; left_sum = -10000\n",
    "\n",
    "    for i in range(m, l-1, -1) : \n",
    "        sm = sm + arrtwo[i] \n",
    "    \n",
    "        if (sm > left_sum) : \n",
    "            left_sum = sm \n",
    "    sm = 0; right_sum = -1000\n",
    "    for i in range(m + 1, h + 1) : \n",
    "        sm = sm + arrtwo[i] \n",
    "\n",
    "        if (sm > right_sum) : \n",
    "            right_sum = sm \n",
    "    return left_sum + right_sum; \n",
    "def maxSubArraySum(arrtwo, l, h) : \n",
    "\n",
    "    if (l == h) : \n",
    "        return arrtwo[l] \n",
    "    m = (l + h) // 2\n",
    "\n",
    "    return max(maxSubArraySum(arrtwo, l, m), \n",
    "            maxSubArraySum(arrtwo, m+1, h), \n",
    "            maxCrossingSum(arrtwo, l, m, h)) \n",
    "        \n",
    "\n",
    "arrtwo = [2, 3, 4, 5, 7] \n",
    "n = len(arrtwo) \n",
    "\n",
    "sume = maxSubArraySum(arrtwo, 0, n-1) \n",
    "print(\"sum is \", sume) \n",
    "\n"
   ]
  },
  {
   "cell_type": "code",
   "execution_count": null,
   "metadata": {},
   "outputs": [],
   "source": []
  }
 ],
 "metadata": {
  "kernelspec": {
   "display_name": "Python 3",
   "language": "python",
   "name": "python3"
  },
  "language_info": {
   "codemirror_mode": {
    "name": "ipython",
    "version": 3
   },
   "file_extension": ".py",
   "mimetype": "text/x-python",
   "name": "python",
   "nbconvert_exporter": "python",
   "pygments_lexer": "ipython3",
   "version": "3.7.0"
  }
 },
 "nbformat": 4,
 "nbformat_minor": 2
}
